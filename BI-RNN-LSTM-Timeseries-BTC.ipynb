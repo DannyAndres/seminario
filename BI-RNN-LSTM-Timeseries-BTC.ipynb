{
 "cells": [
  {
   "cell_type": "code",
   "execution_count": 1,
   "id": "5aa71f20",
   "metadata": {},
   "outputs": [],
   "source": [
    "import numpy as np\n",
    "import matplotlib.pyplot as plt\n",
    "import pandas as pd\n",
    "import yfinance as yf\n",
    "from sklearn.preprocessing import MinMaxScaler\n",
    "import tensorflow as tf\n",
    "from tensorflow import keras\n",
    "import warnings\n",
    "warnings.filterwarnings('ignore')"
   ]
  },
  {
   "cell_type": "code",
   "execution_count": 2,
   "id": "fae1fe4c",
   "metadata": {},
   "outputs": [
    {
     "name": "stdout",
     "output_type": "stream",
     "text": [
      "[*********************100%***********************]  1 of 1 completed\n",
      "[PhysicalDevice(name='/physical_device:CPU:0', device_type='CPU')]\n",
      "2.6.0\n",
      "1.19.5\n"
     ]
    }
   ],
   "source": [
    "stock_symbol = 'BTC-USD' # Stock Symbol Google / Alphabet\n",
    "# last 5 years data with interval 1 day\n",
    "data = yf.download(tickers=stock_symbol, period='2y', interval='1h')\n",
    "s = pd.Series(list(range(0, len(data))))\n",
    "data.set_index(s, inplace=True)\n",
    "data.head()\n",
    "print(tf.config.experimental.list_physical_devices())\n",
    "print(tf.__version__)\n",
    "print(np.__version__)"
   ]
  },
  {
   "cell_type": "code",
   "execution_count": 3,
   "id": "6122fc53",
   "metadata": {},
   "outputs": [
    {
     "data": {
      "text/html": [
       "<div>\n",
       "<style scoped>\n",
       "    .dataframe tbody tr th:only-of-type {\n",
       "        vertical-align: middle;\n",
       "    }\n",
       "\n",
       "    .dataframe tbody tr th {\n",
       "        vertical-align: top;\n",
       "    }\n",
       "\n",
       "    .dataframe thead th {\n",
       "        text-align: right;\n",
       "    }\n",
       "</style>\n",
       "<table border=\"1\" class=\"dataframe\">\n",
       "  <thead>\n",
       "    <tr style=\"text-align: right;\">\n",
       "      <th></th>\n",
       "      <th>Open</th>\n",
       "      <th>High</th>\n",
       "      <th>Low</th>\n",
       "      <th>Close</th>\n",
       "      <th>Volume</th>\n",
       "    </tr>\n",
       "  </thead>\n",
       "  <tbody>\n",
       "    <tr>\n",
       "      <th>0</th>\n",
       "      <td>8503.509766</td>\n",
       "      <td>8513.885742</td>\n",
       "      <td>8471.529297</td>\n",
       "      <td>8482.250977</td>\n",
       "      <td>0</td>\n",
       "    </tr>\n",
       "    <tr>\n",
       "      <th>1</th>\n",
       "      <td>8482.747070</td>\n",
       "      <td>8482.747070</td>\n",
       "      <td>8419.917969</td>\n",
       "      <td>8425.261719</td>\n",
       "      <td>665116672</td>\n",
       "    </tr>\n",
       "    <tr>\n",
       "      <th>2</th>\n",
       "      <td>8428.125000</td>\n",
       "      <td>8428.125000</td>\n",
       "      <td>8273.573242</td>\n",
       "      <td>8300.673828</td>\n",
       "      <td>1515845632</td>\n",
       "    </tr>\n",
       "    <tr>\n",
       "      <th>3</th>\n",
       "      <td>8302.836914</td>\n",
       "      <td>8328.875000</td>\n",
       "      <td>8296.156250</td>\n",
       "      <td>8318.561523</td>\n",
       "      <td>538664960</td>\n",
       "    </tr>\n",
       "    <tr>\n",
       "      <th>4</th>\n",
       "      <td>8315.938477</td>\n",
       "      <td>8316.958008</td>\n",
       "      <td>8273.586914</td>\n",
       "      <td>8292.289062</td>\n",
       "      <td>0</td>\n",
       "    </tr>\n",
       "  </tbody>\n",
       "</table>\n",
       "</div>"
      ],
      "text/plain": [
       "          Open         High          Low        Close      Volume\n",
       "0  8503.509766  8513.885742  8471.529297  8482.250977           0\n",
       "1  8482.747070  8482.747070  8419.917969  8425.261719   665116672\n",
       "2  8428.125000  8428.125000  8273.573242  8300.673828  1515845632\n",
       "3  8302.836914  8328.875000  8296.156250  8318.561523   538664960\n",
       "4  8315.938477  8316.958008  8273.586914  8292.289062           0"
      ]
     },
     "execution_count": 3,
     "metadata": {},
     "output_type": "execute_result"
    }
   ],
   "source": [
    "data_training_size = int(len(data)*0.8)\n",
    "data_test_size = len(data) - data_training_size\n",
    "data_training, data_test = data.iloc[0:data_training_size,:], data.iloc[data_training_size:len(data),:]\n",
    "data_training = data_training.drop(['Adj Close'], axis=1)\n",
    "data_test = data_test.drop(['Adj Close'], axis=1)\n",
    "data_training.head()"
   ]
  },
  {
   "cell_type": "code",
   "execution_count": 4,
   "id": "bb511d4a",
   "metadata": {},
   "outputs": [
    {
     "data": {
      "text/plain": [
       "array([[6.70441786e-02, 6.38297185e-02, 7.23349624e-02, 6.69038225e-02,\n",
       "        0.00000000e+00],\n",
       "       [6.66993053e-02, 6.33123892e-02, 7.14795925e-02, 6.59572935e-02,\n",
       "        4.71662882e-07],\n",
       "       [6.57920198e-02, 6.24049132e-02, 6.90541776e-02, 6.38880254e-02,\n",
       "        1.07495143e-06],\n",
       "       ...,\n",
       "       [4.85868083e-01, 4.82825854e-01, 4.87929358e-01, 4.84367990e-01,\n",
       "        0.00000000e+00],\n",
       "       [4.84174033e-01, 4.80874780e-01, 4.79463964e-01, 4.79517282e-01,\n",
       "        0.00000000e+00],\n",
       "       [4.79007601e-01, 4.80015344e-01, 4.77679809e-01, 4.73059338e-01,\n",
       "        0.00000000e+00]])"
      ]
     },
     "execution_count": 4,
     "metadata": {},
     "output_type": "execute_result"
    }
   ],
   "source": [
    "sc = MinMaxScaler()\n",
    "training_data = sc.fit_transform(data_training)\n",
    "training_data"
   ]
  },
  {
   "cell_type": "code",
   "execution_count": 5,
   "id": "8fa00278",
   "metadata": {},
   "outputs": [
    {
     "data": {
      "text/plain": [
       "((13629, 60, 5), (13629,))"
      ]
     },
     "execution_count": 5,
     "metadata": {},
     "output_type": "execute_result"
    }
   ],
   "source": [
    "window = 60# check that window is less than shape[0]\n",
    "x_train = []\n",
    "y_train = []\n",
    "for i in range(window, training_data.shape[0]):\n",
    "    # take from current minus 60 first dimension, empty seconds dimension to grab all 5\n",
    "    x_train.append(training_data[i-window:i])\n",
    "    y_train.append(training_data[i, 0]) # zero second dimension only to grab which result should be\n",
    "x_train, y_train = np.array(x_train), np.array(y_train)\n",
    "x_train.shape, y_train.shape"
   ]
  },
  {
   "cell_type": "code",
   "execution_count": 6,
   "id": "f6efe67f",
   "metadata": {},
   "outputs": [
    {
     "name": "stderr",
     "output_type": "stream",
     "text": [
      "2021-11-18 13:51:13.001823: I tensorflow/core/platform/cpu_feature_guard.cc:142] This TensorFlow binary is optimized with oneAPI Deep Neural Network Library (oneDNN) to use the following CPU instructions in performance-critical operations:  SSE4.1 SSE4.2 AVX AVX2 FMA\n",
      "To enable them in other operations, rebuild TensorFlow with the appropriate compiler flags.\n"
     ]
    },
    {
     "name": "stdout",
     "output_type": "stream",
     "text": [
      "Model: \"sequential\"\n",
      "_________________________________________________________________\n",
      "Layer (type)                 Output Shape              Param #   \n",
      "=================================================================\n",
      "bidirectional (Bidirectional (None, 60, 160)           55040     \n",
      "_________________________________________________________________\n",
      "dropout (Dropout)            (None, 60, 160)           0         \n",
      "_________________________________________________________________\n",
      "bidirectional_1 (Bidirection (None, 60, 160)           154240    \n",
      "_________________________________________________________________\n",
      "dropout_1 (Dropout)          (None, 60, 160)           0         \n",
      "_________________________________________________________________\n",
      "bidirectional_2 (Bidirection (None, 60, 160)           154240    \n",
      "_________________________________________________________________\n",
      "dropout_2 (Dropout)          (None, 60, 160)           0         \n",
      "_________________________________________________________________\n",
      "bidirectional_3 (Bidirection (None, 240)               269760    \n",
      "_________________________________________________________________\n",
      "dropout_3 (Dropout)          (None, 240)               0         \n",
      "_________________________________________________________________\n",
      "dense (Dense)                (None, 1)                 241       \n",
      "=================================================================\n",
      "Total params: 633,521\n",
      "Trainable params: 633,521\n",
      "Non-trainable params: 0\n",
      "_________________________________________________________________\n"
     ]
    }
   ],
   "source": [
    "model = keras.models.Sequential([\n",
    "    keras.layers.InputLayer(input_shape=(x_train.shape[1], 5)),\n",
    "    keras.layers.Bidirectional(\n",
    "        keras.layers.LSTM(units=80, activation='relu', return_sequences=True),\n",
    "    ),\n",
    "    keras.layers.Dropout(0.2),\n",
    "    keras.layers.Bidirectional(\n",
    "        keras.layers.LSTM(units=80, activation='relu', return_sequences=True),\n",
    "    ),\n",
    "    keras.layers.Dropout(0.3),\n",
    "    keras.layers.Bidirectional(\n",
    "        keras.layers.LSTM(units=80, activation='relu', return_sequences=True),\n",
    "    ),\n",
    "    keras.layers.Dropout(0.4),\n",
    "    # the last one never must have return sequences true, bc you dont want your input to be the output\n",
    "    # you want only a result\n",
    "    keras.layers.Bidirectional(\n",
    "        keras.layers.LSTM(units=120, activation='relu'),\n",
    "    ),\n",
    "    keras.layers.Dropout(0.5),\n",
    "    # output layer, dense layer, return one result -> units\n",
    "    keras.layers.Dense(units=1)\n",
    "])\n",
    "model.summary()"
   ]
  },
  {
   "cell_type": "code",
   "execution_count": 7,
   "id": "7c709453",
   "metadata": {},
   "outputs": [
    {
     "name": "stdout",
     "output_type": "stream",
     "text": [
      "Epoch 1/2\n"
     ]
    },
    {
     "name": "stderr",
     "output_type": "stream",
     "text": [
      "2021-11-18 13:51:13.386687: I tensorflow/compiler/mlir/mlir_graph_optimization_pass.cc:185] None of the MLIR Optimization Passes are enabled (registered 2)\n"
     ]
    },
    {
     "name": "stdout",
     "output_type": "stream",
     "text": [
      "426/426 [==============================] - 75s 168ms/step - loss: 0.0046\n",
      "Epoch 2/2\n",
      "426/426 [==============================] - 70s 164ms/step - loss: 0.0022\n"
     ]
    },
    {
     "data": {
      "text/plain": [
       "<keras.callbacks.History at 0x7fa93a132190>"
      ]
     },
     "execution_count": 7,
     "metadata": {},
     "output_type": "execute_result"
    }
   ],
   "source": [
    "model.compile(\n",
    "    optimizer='adam', #already does a batch aproach, re listen the podcast to remember later\n",
    "    # adam algorithm is stochastic gradient decent, using batch but different from SGD uses adam algorithm to optimize\n",
    "    loss = 'mean_squared_error'\n",
    ")\n",
    "model.fit(x_train, y_train, epochs=2, batch_size=32)"
   ]
  },
  {
   "cell_type": "code",
   "execution_count": 8,
   "id": "1ca0a5bb",
   "metadata": {},
   "outputs": [],
   "source": [
    "past_window_days = data_training.tail(window)\n",
    "# get window size of previous data to continue from the training data to the test data\n",
    "# that way we put a link between test and time line data\n",
    "\n",
    "df = past_window_days.append(data_test, ignore_index = True)"
   ]
  },
  {
   "cell_type": "code",
   "execution_count": 9,
   "id": "bc4f05ae",
   "metadata": {},
   "outputs": [
    {
     "data": {
      "text/plain": [
       "((3423, 60, 5), (3423,))"
      ]
     },
     "execution_count": 9,
     "metadata": {},
     "output_type": "execute_result"
    }
   ],
   "source": [
    "inputs = sc.transform(df) # we transfor the data into an array and then gather the window sizes with the prediction\n",
    "\n",
    "x_test = []\n",
    "y_test = []\n",
    "for i in range(window, inputs.shape[0]):\n",
    "    # take from current minus 60 first dimension, empty seconds dimension to grab all 5\n",
    "    x_test.append(inputs[i-window:i])\n",
    "    y_test.append(inputs[i, 0]) # zero second dimension only to grab which result should be\n",
    "x_test, y_test = np.array(x_test), np.array(y_test)\n",
    "x_test.shape, y_test.shape"
   ]
  },
  {
   "cell_type": "code",
   "execution_count": 10,
   "id": "23d91abc",
   "metadata": {},
   "outputs": [],
   "source": [
    "y_pred = model.predict(x_test)\n",
    "\n",
    "# un scale the values to normal amount of google shares\n",
    "scale = (1/sc.scale_[0]) # scaling label -> amount that use scaler to scale\n",
    "# every single value of scale_ is the factor that was use for every single value in the scaler\n",
    "# sc.scale_[0] is the scaler factor\n",
    "# we do the 1/scale to do the reverse and have the original numbers\n",
    "sc.scale_, sc.scale_[0], scale\n",
    "\n",
    "y_pred_final = y_pred*scale\n",
    "y_test_final = y_test*scale\n",
    "# normal scales"
   ]
  },
  {
   "cell_type": "code",
   "execution_count": 11,
   "id": "176f89d8",
   "metadata": {},
   "outputs": [
    {
     "data": {
      "image/png": "[encoded data removed]",
      "text/plain": [
       "<Figure size 1008x360 with 1 Axes>"
      ]
     },
     "metadata": {
      "needs_background": "light"
     },
     "output_type": "display_data"
    }
   ],
   "source": [
    "plt.figure(figsize=(14,5))\n",
    "plt.plot(y_test, color='red', label='Real BTC Price')\n",
    "plt.plot(y_pred, color='blue', label='Predicted BTC Stock Price')\n",
    "plt.title('BTC Stock Price Prediction')\n",
    "plt.xlabel('Time')\n",
    "plt.ylabel('BTC Stock Price')\n",
    "plt.legend()\n",
    "plt.show()"
   ]
  },
  {
   "cell_type": "code",
   "execution_count": 12,
   "id": "7d8df1fb",
   "metadata": {},
   "outputs": [
    {
     "name": "stdout",
     "output_type": "stream",
     "text": [
      "107/107 [==============================] - 7s 56ms/step - loss: 0.0024\n"
     ]
    },
    {
     "data": {
      "text/plain": [
       "0.0023761147167533636"
      ]
     },
     "execution_count": 12,
     "metadata": {},
     "output_type": "execute_result"
    }
   ],
   "source": [
    "model.evaluate(x_test, y_test)"
   ]
  },
  {
   "cell_type": "code",
   "execution_count": null,
   "id": "b3ee6e80",
   "metadata": {},
   "outputs": [],
   "source": []
  }
 ],
 "metadata": {
  "kernelspec": {
   "display_name": "Python 3 (ipykernel)",
   "language": "python",
   "name": "python3"
  },
  "language_info": {
   "codemirror_mode": {
    "name": "ipython",
    "version": 3
   },
   "file_extension": ".py",
   "mimetype": "text/x-python",
   "name": "python",
   "nbconvert_exporter": "python",
   "pygments_lexer": "ipython3",
   "version": "3.8.12"
  }
 },
 "nbformat": 4,
 "nbformat_minor": 5
}
