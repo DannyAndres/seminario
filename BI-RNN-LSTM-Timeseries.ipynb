{
 "cells": [
  {
   "cell_type": "code",
   "execution_count": 15,
   "id": "5aa71f20",
   "metadata": {},
   "outputs": [],
   "source": [
    "import numpy as np\n",
    "import matplotlib.pyplot as plt\n",
    "import pandas as pd\n",
    "import yfinance as yf\n",
    "from sklearn.preprocessing import MinMaxScaler\n",
    "import tensorflow as tf\n",
    "from tensorflow import keras\n",
    "import warnings\n",
    "warnings.filterwarnings('ignore')"
   ]
  },
  {
   "cell_type": "code",
   "execution_count": 16,
   "id": "fae1fe4c",
   "metadata": {},
   "outputs": [
    {
     "name": "stdout",
     "output_type": "stream",
     "text": [
      "[*********************100%***********************]  1 of 1 completed\n"
     ]
    },
    {
     "data": {
      "text/html": [
       "<div>\n",
       "<style scoped>\n",
       "    .dataframe tbody tr th:only-of-type {\n",
       "        vertical-align: middle;\n",
       "    }\n",
       "\n",
       "    .dataframe tbody tr th {\n",
       "        vertical-align: top;\n",
       "    }\n",
       "\n",
       "    .dataframe thead th {\n",
       "        text-align: right;\n",
       "    }\n",
       "</style>\n",
       "<table border=\"1\" class=\"dataframe\">\n",
       "  <thead>\n",
       "    <tr style=\"text-align: right;\">\n",
       "      <th></th>\n",
       "      <th>Open</th>\n",
       "      <th>High</th>\n",
       "      <th>Low</th>\n",
       "      <th>Close</th>\n",
       "      <th>Adj Close</th>\n",
       "      <th>Volume</th>\n",
       "    </tr>\n",
       "  </thead>\n",
       "  <tbody>\n",
       "    <tr>\n",
       "      <th>0</th>\n",
       "      <td>42.049999</td>\n",
       "      <td>45.000000</td>\n",
       "      <td>38.000000</td>\n",
       "      <td>38.230000</td>\n",
       "      <td>38.230000</td>\n",
       "      <td>573576400</td>\n",
       "    </tr>\n",
       "    <tr>\n",
       "      <th>1</th>\n",
       "      <td>36.529999</td>\n",
       "      <td>36.660000</td>\n",
       "      <td>33.000000</td>\n",
       "      <td>34.029999</td>\n",
       "      <td>34.029999</td>\n",
       "      <td>168192700</td>\n",
       "    </tr>\n",
       "    <tr>\n",
       "      <th>2</th>\n",
       "      <td>32.610001</td>\n",
       "      <td>33.590000</td>\n",
       "      <td>30.940001</td>\n",
       "      <td>31.000000</td>\n",
       "      <td>31.000000</td>\n",
       "      <td>101786600</td>\n",
       "    </tr>\n",
       "    <tr>\n",
       "      <th>3</th>\n",
       "      <td>31.370001</td>\n",
       "      <td>32.500000</td>\n",
       "      <td>31.360001</td>\n",
       "      <td>32.000000</td>\n",
       "      <td>32.000000</td>\n",
       "      <td>73600000</td>\n",
       "    </tr>\n",
       "    <tr>\n",
       "      <th>4</th>\n",
       "      <td>32.950001</td>\n",
       "      <td>33.209999</td>\n",
       "      <td>31.770000</td>\n",
       "      <td>33.029999</td>\n",
       "      <td>33.029999</td>\n",
       "      <td>50237200</td>\n",
       "    </tr>\n",
       "  </tbody>\n",
       "</table>\n",
       "</div>"
      ],
      "text/plain": [
       "        Open       High        Low      Close  Adj Close     Volume\n",
       "0  42.049999  45.000000  38.000000  38.230000  38.230000  573576400\n",
       "1  36.529999  36.660000  33.000000  34.029999  34.029999  168192700\n",
       "2  32.610001  33.590000  30.940001  31.000000  31.000000  101786600\n",
       "3  31.370001  32.500000  31.360001  32.000000  32.000000   73600000\n",
       "4  32.950001  33.209999  31.770000  33.029999  33.029999   50237200"
      ]
     },
     "execution_count": 16,
     "metadata": {},
     "output_type": "execute_result"
    }
   ],
   "source": [
    "stock_symbol = 'FB' # Stock Symbol Google / Alphabet\n",
    "# last 5 years data with interval 1 day\n",
    "data = yf.download(tickers=stock_symbol, period='10y', interval='1d')\n",
    "s = pd.Series(list(range(0, len(data))))\n",
    "data.set_index(s, inplace=True)\n",
    "data.head()"
   ]
  },
  {
   "cell_type": "code",
   "execution_count": 17,
   "id": "6122fc53",
   "metadata": {},
   "outputs": [
    {
     "data": {
      "text/html": [
       "<div>\n",
       "<style scoped>\n",
       "    .dataframe tbody tr th:only-of-type {\n",
       "        vertical-align: middle;\n",
       "    }\n",
       "\n",
       "    .dataframe tbody tr th {\n",
       "        vertical-align: top;\n",
       "    }\n",
       "\n",
       "    .dataframe thead th {\n",
       "        text-align: right;\n",
       "    }\n",
       "</style>\n",
       "<table border=\"1\" class=\"dataframe\">\n",
       "  <thead>\n",
       "    <tr style=\"text-align: right;\">\n",
       "      <th></th>\n",
       "      <th>Open</th>\n",
       "      <th>High</th>\n",
       "      <th>Low</th>\n",
       "      <th>Close</th>\n",
       "      <th>Volume</th>\n",
       "    </tr>\n",
       "  </thead>\n",
       "  <tbody>\n",
       "    <tr>\n",
       "      <th>0</th>\n",
       "      <td>42.049999</td>\n",
       "      <td>45.000000</td>\n",
       "      <td>38.000000</td>\n",
       "      <td>38.230000</td>\n",
       "      <td>573576400</td>\n",
       "    </tr>\n",
       "    <tr>\n",
       "      <th>1</th>\n",
       "      <td>36.529999</td>\n",
       "      <td>36.660000</td>\n",
       "      <td>33.000000</td>\n",
       "      <td>34.029999</td>\n",
       "      <td>168192700</td>\n",
       "    </tr>\n",
       "    <tr>\n",
       "      <th>2</th>\n",
       "      <td>32.610001</td>\n",
       "      <td>33.590000</td>\n",
       "      <td>30.940001</td>\n",
       "      <td>31.000000</td>\n",
       "      <td>101786600</td>\n",
       "    </tr>\n",
       "    <tr>\n",
       "      <th>3</th>\n",
       "      <td>31.370001</td>\n",
       "      <td>32.500000</td>\n",
       "      <td>31.360001</td>\n",
       "      <td>32.000000</td>\n",
       "      <td>73600000</td>\n",
       "    </tr>\n",
       "    <tr>\n",
       "      <th>4</th>\n",
       "      <td>32.950001</td>\n",
       "      <td>33.209999</td>\n",
       "      <td>31.770000</td>\n",
       "      <td>33.029999</td>\n",
       "      <td>50237200</td>\n",
       "    </tr>\n",
       "  </tbody>\n",
       "</table>\n",
       "</div>"
      ],
      "text/plain": [
       "        Open       High        Low      Close     Volume\n",
       "0  42.049999  45.000000  38.000000  38.230000  573576400\n",
       "1  36.529999  36.660000  33.000000  34.029999  168192700\n",
       "2  32.610001  33.590000  30.940001  31.000000  101786600\n",
       "3  31.370001  32.500000  31.360001  32.000000   73600000\n",
       "4  32.950001  33.209999  31.770000  33.029999   50237200"
      ]
     },
     "execution_count": 17,
     "metadata": {},
     "output_type": "execute_result"
    }
   ],
   "source": [
    "data_training_size = int(len(data)*0.7)\n",
    "data_test_size = len(data) - data_training_size\n",
    "data_training, data_test = data.iloc[0:data_training_size,:], data.iloc[data_training_size:len(data),:]\n",
    "data_training = data_training.drop(['Adj Close'], axis=1)\n",
    "data_test = data_test.drop(['Adj Close'], axis=1)\n",
    "data_training.head()"
   ]
  },
  {
   "cell_type": "code",
   "execution_count": 18,
   "id": "bb511d4a",
   "metadata": {},
   "outputs": [
    {
     "data": {
      "text/plain": [
       "array([[0.12128111, 0.13341652, 0.10395486, 0.10261801, 1.        ],\n",
       "       [0.09335154, 0.09178937, 0.07853803, 0.08159383, 0.28587298],\n",
       "       [0.07351751, 0.07646618, 0.06806629, 0.06642639, 0.16889149],\n",
       "       ...,\n",
       "       [0.63180528, 0.63104567, 0.6289142 , 0.63322819, 0.02870152],\n",
       "       [0.63246307, 0.6303469 , 0.62672831, 0.63307803, 0.01798936],\n",
       "       [0.63281721, 0.63433992, 0.63552259, 0.63107575, 0.01232227]])"
      ]
     },
     "execution_count": 18,
     "metadata": {},
     "output_type": "execute_result"
    }
   ],
   "source": [
    "sc = MinMaxScaler()\n",
    "training_data = sc.fit_transform(data_training)\n",
    "training_data"
   ]
  },
  {
   "cell_type": "code",
   "execution_count": 19,
   "id": "8fa00278",
   "metadata": {},
   "outputs": [
    {
     "data": {
      "text/plain": [
       "((1613, 60, 5), (1613,))"
      ]
     },
     "execution_count": 19,
     "metadata": {},
     "output_type": "execute_result"
    }
   ],
   "source": [
    "window = 60# check that window is less than shape[0]\n",
    "x_train = []\n",
    "y_train = []\n",
    "for i in range(window, training_data.shape[0]):\n",
    "    # take from current minus 60 first dimension, empty seconds dimension to grab all 5\n",
    "    x_train.append(training_data[i-window:i])\n",
    "    y_train.append(training_data[i, 0]) # zero second dimension only to grab which result should be\n",
    "x_train, y_train = np.array(x_train), np.array(y_train)\n",
    "x_train.shape, y_train.shape"
   ]
  },
  {
   "cell_type": "code",
   "execution_count": 20,
   "id": "f6efe67f",
   "metadata": {},
   "outputs": [
    {
     "name": "stdout",
     "output_type": "stream",
     "text": [
      "WARNING:tensorflow:Layer lstm_20 will not use cuDNN kernels since it doesn't meet the criteria. It will use a generic GPU kernel as fallback when running on GPU.\n",
      "WARNING:tensorflow:Layer lstm_20 will not use cuDNN kernels since it doesn't meet the criteria. It will use a generic GPU kernel as fallback when running on GPU.\n",
      "WARNING:tensorflow:Layer lstm_20 will not use cuDNN kernels since it doesn't meet the criteria. It will use a generic GPU kernel as fallback when running on GPU.\n",
      "WARNING:tensorflow:Layer lstm_21 will not use cuDNN kernels since it doesn't meet the criteria. It will use a generic GPU kernel as fallback when running on GPU.\n",
      "WARNING:tensorflow:Layer lstm_21 will not use cuDNN kernels since it doesn't meet the criteria. It will use a generic GPU kernel as fallback when running on GPU.\n",
      "WARNING:tensorflow:Layer lstm_21 will not use cuDNN kernels since it doesn't meet the criteria. It will use a generic GPU kernel as fallback when running on GPU.\n",
      "WARNING:tensorflow:Layer lstm_22 will not use cuDNN kernels since it doesn't meet the criteria. It will use a generic GPU kernel as fallback when running on GPU.\n",
      "WARNING:tensorflow:Layer lstm_22 will not use cuDNN kernels since it doesn't meet the criteria. It will use a generic GPU kernel as fallback when running on GPU.\n",
      "WARNING:tensorflow:Layer lstm_22 will not use cuDNN kernels since it doesn't meet the criteria. It will use a generic GPU kernel as fallback when running on GPU.\n",
      "WARNING:tensorflow:Layer lstm_23 will not use cuDNN kernels since it doesn't meet the criteria. It will use a generic GPU kernel as fallback when running on GPU.\n",
      "WARNING:tensorflow:Layer lstm_23 will not use cuDNN kernels since it doesn't meet the criteria. It will use a generic GPU kernel as fallback when running on GPU.\n",
      "WARNING:tensorflow:Layer lstm_23 will not use cuDNN kernels since it doesn't meet the criteria. It will use a generic GPU kernel as fallback when running on GPU.\n",
      "Model: \"sequential_3\"\n",
      "_________________________________________________________________\n",
      "Layer (type)                 Output Shape              Param #   \n",
      "=================================================================\n",
      "bidirectional_12 (Bidirectio (None, 60, 160)           55040     \n",
      "_________________________________________________________________\n",
      "dropout_20 (Dropout)         (None, 60, 160)           0         \n",
      "_________________________________________________________________\n",
      "bidirectional_13 (Bidirectio (None, 60, 160)           154240    \n",
      "_________________________________________________________________\n",
      "dropout_21 (Dropout)         (None, 60, 160)           0         \n",
      "_________________________________________________________________\n",
      "bidirectional_14 (Bidirectio (None, 60, 160)           154240    \n",
      "_________________________________________________________________\n",
      "dropout_22 (Dropout)         (None, 60, 160)           0         \n",
      "_________________________________________________________________\n",
      "bidirectional_15 (Bidirectio (None, 240)               269760    \n",
      "_________________________________________________________________\n",
      "dropout_23 (Dropout)         (None, 240)               0         \n",
      "_________________________________________________________________\n",
      "dense_3 (Dense)              (None, 1)                 241       \n",
      "=================================================================\n",
      "Total params: 633,521\n",
      "Trainable params: 633,521\n",
      "Non-trainable params: 0\n",
      "_________________________________________________________________\n"
     ]
    }
   ],
   "source": [
    "model = keras.models.Sequential([\n",
    "    keras.layers.InputLayer(input_shape=(x_train.shape[1], 5)),\n",
    "    keras.layers.Bidirectional(\n",
    "        keras.layers.LSTM(units=80, activation='relu', return_sequences=True),\n",
    "    ),\n",
    "    keras.layers.Dropout(0.2),\n",
    "    keras.layers.Bidirectional(\n",
    "        keras.layers.LSTM(units=80, activation='relu', return_sequences=True),\n",
    "    ),\n",
    "    keras.layers.Dropout(0.3),\n",
    "    keras.layers.Bidirectional(\n",
    "        keras.layers.LSTM(units=80, activation='relu', return_sequences=True),\n",
    "    ),\n",
    "    keras.layers.Dropout(0.4),\n",
    "    # the last one never must have return sequences true, bc you dont want your input to be the output\n",
    "    # you want only a result\n",
    "    keras.layers.Bidirectional(\n",
    "        keras.layers.LSTM(units=120, activation='relu'),\n",
    "    ),\n",
    "    keras.layers.Dropout(0.5),\n",
    "    # output layer, dense layer, return one result -> units\n",
    "    keras.layers.Dense(units=1)\n",
    "])\n",
    "model.summary()"
   ]
  },
  {
   "cell_type": "code",
   "execution_count": null,
   "id": "7c709453",
   "metadata": {},
   "outputs": [
    {
     "name": "stderr",
     "output_type": "stream",
     "text": [
      "2021-11-17 10:24:48.070046: I tensorflow/compiler/mlir/mlir_graph_optimization_pass.cc:176] None of the MLIR Optimization Passes are enabled (registered 2)\n",
      "2021-11-17 10:24:48.072987: W tensorflow/core/platform/profile_utils/cpu_utils.cc:128] Failed to get CPU frequency: 0 Hz\n"
     ]
    },
    {
     "name": "stdout",
     "output_type": "stream",
     "text": [
      "Epoch 1/10\n"
     ]
    },
    {
     "name": "stderr",
     "output_type": "stream",
     "text": [
      "2021-11-17 10:24:49.687034: I tensorflow/core/grappler/optimizers/custom_graph_optimizer_registry.cc:112] Plugin optimizer for device_type GPU is enabled.\n"
     ]
    },
    {
     "name": "stdout",
     "output_type": "stream",
     "text": [
      "51/51 [==============================] - 1244s 24s/step - loss: 0.0354\n",
      "Epoch 2/10\n",
      "51/51 [==============================] - 1219s 24s/step - loss: 0.0062\n",
      "Epoch 3/10\n",
      "51/51 [==============================] - 1209s 24s/step - loss: 0.0053\n",
      "Epoch 4/10\n",
      "51/51 [==============================] - 1229s 24s/step - loss: 0.0047\n",
      "Epoch 5/10\n",
      "51/51 [==============================] - 1239s 24s/step - loss: 0.0054\n",
      "Epoch 6/10\n",
      "51/51 [==============================] - 1218s 24s/step - loss: 0.0040\n",
      "Epoch 7/10\n",
      "51/51 [==============================] - 1234s 24s/step - loss: 0.0038\n",
      "Epoch 8/10\n",
      "41/51 [=======================>......] - ETA: 3:57 - loss: 0.0035"
     ]
    }
   ],
   "source": [
    "model.compile(\n",
    "    optimizer='adam', #already does a batch aproach, re listen the podcast to remember later\n",
    "    # adam algorithm is stochastic gradient decent, using batch but different from SGD uses adam algorithm to optimize\n",
    "    loss = 'mean_squared_error'\n",
    ")\n",
    "model.fit(x_train, y_train, epochs=10, batch_size=32)"
   ]
  },
  {
   "cell_type": "code",
   "execution_count": null,
   "id": "1ca0a5bb",
   "metadata": {},
   "outputs": [],
   "source": [
    "past_window_days = data_training.tail(window)\n",
    "# get window size of previous data to continue from the training data to the test data\n",
    "# that way we put a link between test and time line data\n",
    "\n",
    "df = past_window_days.append(data_test, ignore_index = True)\n",
    "df"
   ]
  },
  {
   "cell_type": "code",
   "execution_count": null,
   "id": "bc4f05ae",
   "metadata": {},
   "outputs": [],
   "source": [
    "inputs = sc.transform(df) # we transfor the data into an array and then gather the window sizes with the prediction\n",
    "\n",
    "x_test = []\n",
    "y_test = []\n",
    "for i in range(window, inputs.shape[0]):\n",
    "    # take from current minus 60 first dimension, empty seconds dimension to grab all 5\n",
    "    x_test.append(inputs[i-window:i])\n",
    "    y_test.append(inputs[i, 0]) # zero second dimension only to grab which result should be\n",
    "x_test, y_test = np.array(x_test), np.array(y_test)\n",
    "x_test.shape, y_test.shape"
   ]
  },
  {
   "cell_type": "code",
   "execution_count": null,
   "id": "23d91abc",
   "metadata": {},
   "outputs": [],
   "source": [
    "y_pred = model.predict(x_test)\n",
    "\n",
    "# un scale the values to normal amount of google shares\n",
    "scale = (1/sc.scale_[0]) # scaling label -> amount that use scaler to scale\n",
    "# every single value of scale_ is the factor that was use for every single value in the scaler\n",
    "# sc.scale_[0] is the scaler factor\n",
    "# we do the 1/scale to do the reverse and have the original numbers\n",
    "sc.scale_, sc.scale_[0], scale\n",
    "\n",
    "y_pred_final = y_pred*scale\n",
    "y_test_final = y_test*scale\n",
    "# normal scales"
   ]
  },
  {
   "cell_type": "code",
   "execution_count": null,
   "id": "176f89d8",
   "metadata": {},
   "outputs": [],
   "source": [
    "plt.figure(figsize=(14,5))\n",
    "plt.plot(y_test, color='red', label='Real FB Stock Price')\n",
    "plt.plot(y_pred, color='blue', label='Predicted FB Stock Price')\n",
    "plt.title('FB Stock Price Prediction')\n",
    "plt.xlabel('Time')\n",
    "plt.ylabel('FB Stock Price')\n",
    "plt.legend()\n",
    "plt.show()"
   ]
  },
  {
   "cell_type": "code",
   "execution_count": null,
   "id": "7d8df1fb",
   "metadata": {},
   "outputs": [],
   "source": [
    "model.evaluate(x_test, y_test)"
   ]
  },
  {
   "cell_type": "code",
   "execution_count": null,
   "id": "f6c32e54",
   "metadata": {},
   "outputs": [],
   "source": []
  }
 ],
 "metadata": {
  "kernelspec": {
   "display_name": "Python 3.9 (tensorflow)",
   "language": "python",
   "name": "tensorflow"
  },
  "language_info": {
   "codemirror_mode": {
    "name": "ipython",
    "version": 3
   },
   "file_extension": ".py",
   "mimetype": "text/x-python",
   "name": "python",
   "nbconvert_exporter": "python",
   "pygments_lexer": "ipython3",
   "version": "3.9.7"
  }
 },
 "nbformat": 4,
 "nbformat_minor": 5
}
