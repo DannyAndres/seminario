{
 "cells": [
  {
   "cell_type": "code",
   "execution_count": 1,
   "id": "19ae9026",
   "metadata": {},
   "outputs": [
    {
     "name": "stdout",
     "output_type": "stream",
     "text": [
      "Init Plugin\n",
      "Init Graph Optimizer\n",
      "Init Kernel\n"
     ]
    }
   ],
   "source": [
    "import numpy as np\n",
    "import matplotlib.pyplot as plt\n",
    "from mpl_toolkits.axes_grid1 import ImageGrid\n",
    "from pyts.image import GramianAngularField\n",
    "import pandas as pd\n",
    "import yfinance as yf\n",
    "from sklearn.preprocessing import MinMaxScaler\n",
    "import tensorflow as tf\n",
    "from tensorflow import keras\n",
    "import warnings\n",
    "import os\n",
    "warnings.filterwarnings('ignore')"
   ]
  },
  {
   "cell_type": "code",
   "execution_count": 2,
   "id": "f1a93603",
   "metadata": {},
   "outputs": [
    {
     "name": "stdout",
     "output_type": "stream",
     "text": [
      "[*********************100%***********************]  1 of 1 completed\n"
     ]
    },
    {
     "data": {
      "text/plain": [
       "(1673, 5)"
      ]
     },
     "execution_count": 2,
     "metadata": {},
     "output_type": "execute_result"
    }
   ],
   "source": [
    "stock_symbol = 'FB' # Stock Symbol Google / Alphabet\n",
    "# last 5 years data with interval 1 day\n",
    "data = yf.download(tickers=stock_symbol, period='10y', interval='1d')\n",
    "s = pd.Series(list(range(0, len(data))))\n",
    "data.set_index(s, inplace=True)\n",
    "data_training_size = int(len(data)*0.7)\n",
    "data_test_size = len(data) - data_training_size\n",
    "data_training, data_test = data.iloc[0:data_training_size,:], data.iloc[data_training_size:len(data),:]\n",
    "data_training = data_training.drop(['Adj Close'], axis=1)\n",
    "data_test = data_test.drop(['Adj Close'], axis=1)\n",
    "sc = MinMaxScaler()\n",
    "training_data = sc.fit_transform(data_training)\n",
    "training_data.shape"
   ]
  },
  {
   "cell_type": "code",
   "execution_count": 3,
   "id": "e088042d",
   "metadata": {},
   "outputs": [],
   "source": [
    "def create_gaf(timeseries):\n",
    "    data = dict()\n",
    "    gadf = GramianAngularField(method='difference', image_size=timeseries.shape[0])\n",
    "    data['gadf'] = gadf.fit_transform(pd.DataFrame(timeseries).T)[0]\n",
    "    return data['gadf']"
   ]
  },
  {
   "cell_type": "code",
   "execution_count": 4,
   "id": "f37139ff",
   "metadata": {},
   "outputs": [
    {
     "data": {
      "text/plain": [
       "((1613, 60, 5), (1613,))"
      ]
     },
     "execution_count": 4,
     "metadata": {},
     "output_type": "execute_result"
    }
   ],
   "source": [
    "window = 60# check that window is less than shape[0]\n",
    "x_train = []\n",
    "y_train = []\n",
    "for i in range(window, training_data.shape[0]):\n",
    "    # take from current minus 60 first dimension, empty seconds dimension to grab all 5\n",
    "    x_train.append(training_data[i-window:i])\n",
    "    y_train.append(training_data[i, 0]) # zero second dimension only to grab which result should be\n",
    "x_train, y_train = np.array(x_train), np.array(y_train)\n",
    "x_train.shape, y_train.shape\n",
    "\n",
    "x_train.shape, y_train.shape"
   ]
  },
  {
   "cell_type": "code",
   "execution_count": 5,
   "id": "5db2a690",
   "metadata": {},
   "outputs": [
    {
     "data": {
      "image/png": "[encoded data removed]",
      "text/plain": [
       "<Figure size 432x288 with 1 Axes>"
      ]
     },
     "metadata": {
      "needs_background": "light"
     },
     "output_type": "display_data"
    }
   ],
   "source": [
    "gadfImage = create_gaf(x_train[0]) # first image\n",
    "plt.imshow(gadfImage, interpolation='nearest')\n",
    "plt.show()"
   ]
  },
  {
   "cell_type": "code",
   "execution_count": 6,
   "id": "2a2f9283",
   "metadata": {},
   "outputs": [
    {
     "data": {
      "text/plain": [
       "(1613, 60, 60)"
      ]
     },
     "execution_count": 6,
     "metadata": {},
     "output_type": "execute_result"
    }
   ],
   "source": [
    "gadf_training = []\n",
    "\n",
    "for i in x_train:\n",
    "    gadf_training.append(create_gaf(i))\n",
    "gadf_training = np.array(gadf_training)\n",
    "\n",
    "gadf_training.shape"
   ]
  },
  {
   "cell_type": "code",
   "execution_count": 7,
   "id": "aa7f3ea5",
   "metadata": {},
   "outputs": [
    {
     "name": "stdout",
     "output_type": "stream",
     "text": [
      "Metal device set to: Apple M1\n"
     ]
    },
    {
     "name": "stderr",
     "output_type": "stream",
     "text": [
      "2021-11-17 02:03:45.033486: I tensorflow/core/common_runtime/pluggable_device/pluggable_device_factory.cc:305] Could not identify NUMA node of platform GPU ID 0, defaulting to 0. Your kernel may not have been built with NUMA support.\n",
      "2021-11-17 02:03:45.033800: I tensorflow/core/common_runtime/pluggable_device/pluggable_device_factory.cc:271] Created TensorFlow device (/job:localhost/replica:0/task:0/device:GPU:0 with 0 MB memory) -> physical PluggableDevice (device: 0, name: METAL, pci bus id: <undefined>)\n"
     ]
    },
    {
     "name": "stdout",
     "output_type": "stream",
     "text": [
      "Model: \"sequential\"\n",
      "_________________________________________________________________\n",
      "Layer (type)                 Output Shape              Param #   \n",
      "=================================================================\n",
      "flatten (Flatten)            (None, 3600)              0         \n",
      "_________________________________________________________________\n",
      "dropout (Dropout)            (None, 3600)              0         \n",
      "_________________________________________________________________\n",
      "dense (Dense)                (None, 30000)             108030000 \n",
      "_________________________________________________________________\n",
      "dropout_1 (Dropout)          (None, 30000)             0         \n",
      "_________________________________________________________________\n",
      "dense_1 (Dense)              (None, 10000)             300010000 \n",
      "_________________________________________________________________\n",
      "dropout_2 (Dropout)          (None, 10000)             0         \n",
      "_________________________________________________________________\n",
      "dense_2 (Dense)              (None, 1)                 10001     \n",
      "=================================================================\n",
      "Total params: 408,050,001\n",
      "Trainable params: 408,050,001\n",
      "Non-trainable params: 0\n",
      "_________________________________________________________________\n"
     ]
    }
   ],
   "source": [
    "model = keras.models.Sequential([\n",
    "    keras.layers.Flatten(input_shape=(60,60,1)),\n",
    "    keras.layers.Dropout(0.5), # 50% dropout\n",
    "    keras.layers.Dense(30000, activation='relu'),\n",
    "    keras.layers.Dropout(0.5), # 50% dropout\n",
    "    keras.layers.Dense(10000, activation='relu'),\n",
    "    keras.layers.Dropout(0.5), # 50% dropout\n",
    "    keras.layers.Dense(units=1)\n",
    "])\n",
    "model.summary()"
   ]
  },
  {
   "cell_type": "code",
   "execution_count": 8,
   "id": "62de6d80",
   "metadata": {},
   "outputs": [
    {
     "name": "stdout",
     "output_type": "stream",
     "text": [
      "Epoch 1/150\n"
     ]
    },
    {
     "name": "stderr",
     "output_type": "stream",
     "text": [
      "2021-11-17 02:03:46.061111: I tensorflow/compiler/mlir/mlir_graph_optimization_pass.cc:176] None of the MLIR Optimization Passes are enabled (registered 2)\n",
      "2021-11-17 02:03:46.076457: W tensorflow/core/platform/profile_utils/cpu_utils.cc:128] Failed to get CPU frequency: 0 Hz\n",
      "2021-11-17 02:03:46.382712: I tensorflow/core/grappler/optimizers/custom_graph_optimizer_registry.cc:112] Plugin optimizer for device_type GPU is enabled.\n"
     ]
    },
    {
     "name": "stdout",
     "output_type": "stream",
     "text": [
      "51/51 [==============================] - 29s 552ms/step - loss: 1789.1721\n",
      "Epoch 2/150\n",
      "51/51 [==============================] - 25s 480ms/step - loss: 0.8662\n",
      "Epoch 3/150\n",
      "51/51 [==============================] - 26s 507ms/step - loss: 0.2414\n",
      "Epoch 4/150\n",
      "51/51 [==============================] - 28s 547ms/step - loss: 0.1646\n",
      "Epoch 5/150\n",
      "51/51 [==============================] - 26s 504ms/step - loss: 0.1487\n",
      "Epoch 6/150\n",
      "51/51 [==============================] - 27s 530ms/step - loss: 0.1224\n",
      "Epoch 7/150\n",
      "51/51 [==============================] - 24s 470ms/step - loss: 0.1074\n",
      "Epoch 8/150\n",
      "51/51 [==============================] - 23s 458ms/step - loss: 0.1070\n",
      "Epoch 9/150\n",
      "51/51 [==============================] - 24s 468ms/step - loss: 0.1010\n",
      "Epoch 10/150\n",
      "51/51 [==============================] - 24s 461ms/step - loss: 0.1007\n",
      "Epoch 11/150\n",
      "51/51 [==============================] - 23s 457ms/step - loss: 0.1052\n",
      "Epoch 12/150\n",
      "51/51 [==============================] - 24s 462ms/step - loss: 0.0986\n",
      "Epoch 13/150\n",
      "51/51 [==============================] - 25s 484ms/step - loss: 0.1000\n",
      "Epoch 14/150\n",
      "51/51 [==============================] - 28s 547ms/step - loss: 0.0900\n",
      "Epoch 15/150\n",
      "51/51 [==============================] - 25s 497ms/step - loss: 0.0904\n",
      "Epoch 16/150\n",
      "51/51 [==============================] - 24s 476ms/step - loss: 0.0934\n",
      "Epoch 17/150\n",
      "51/51 [==============================] - 24s 464ms/step - loss: 0.0905\n",
      "Epoch 18/150\n",
      "51/51 [==============================] - 23s 457ms/step - loss: 0.0914\n",
      "Epoch 19/150\n",
      "51/51 [==============================] - 24s 461ms/step - loss: 0.0886\n",
      "Epoch 20/150\n",
      "51/51 [==============================] - 23s 458ms/step - loss: 0.0891\n",
      "Epoch 21/150\n",
      "51/51 [==============================] - 24s 468ms/step - loss: 0.0871\n",
      "Epoch 22/150\n",
      "51/51 [==============================] - 24s 478ms/step - loss: 0.0873\n",
      "Epoch 23/150\n",
      "51/51 [==============================] - 24s 463ms/step - loss: 0.0856\n",
      "Epoch 24/150\n",
      "51/51 [==============================] - 24s 466ms/step - loss: 0.0880\n",
      "Epoch 25/150\n",
      "51/51 [==============================] - 24s 462ms/step - loss: 0.0869\n",
      "Epoch 26/150\n",
      "51/51 [==============================] - 23s 456ms/step - loss: 0.0883\n",
      "Epoch 27/150\n",
      "51/51 [==============================] - 24s 461ms/step - loss: 0.0894\n",
      "Epoch 28/150\n",
      "51/51 [==============================] - 23s 455ms/step - loss: 0.0850\n",
      "Epoch 29/150\n",
      "51/51 [==============================] - 24s 464ms/step - loss: 0.0821\n",
      "Epoch 30/150\n",
      "51/51 [==============================] - 23s 456ms/step - loss: 0.0844\n",
      "Epoch 31/150\n",
      "51/51 [==============================] - 23s 458ms/step - loss: 0.0852\n",
      "Epoch 32/150\n",
      "51/51 [==============================] - 24s 477ms/step - loss: 0.0838\n",
      "Epoch 33/150\n",
      "51/51 [==============================] - 23s 459ms/step - loss: 0.0813\n",
      "Epoch 34/150\n",
      "51/51 [==============================] - 24s 467ms/step - loss: 0.0785\n",
      "Epoch 35/150\n",
      "51/51 [==============================] - 23s 459ms/step - loss: 0.0790\n",
      "Epoch 36/150\n",
      "51/51 [==============================] - 23s 453ms/step - loss: 0.0815\n",
      "Epoch 37/150\n",
      "51/51 [==============================] - 23s 457ms/step - loss: 0.0794\n",
      "Epoch 38/150\n",
      "51/51 [==============================] - 26s 519ms/step - loss: 0.0847\n",
      "Epoch 39/150\n",
      "51/51 [==============================] - 25s 487ms/step - loss: 0.0803\n",
      "Epoch 40/150\n",
      "51/51 [==============================] - 25s 489ms/step - loss: 0.0827\n",
      "Epoch 41/150\n",
      "51/51 [==============================] - 23s 460ms/step - loss: 0.0801\n",
      "Epoch 42/150\n",
      "51/51 [==============================] - 24s 477ms/step - loss: 0.0793\n",
      "Epoch 43/150\n",
      "51/51 [==============================] - 25s 492ms/step - loss: 0.0807\n",
      "Epoch 44/150\n",
      "51/51 [==============================] - 26s 499ms/step - loss: 0.0809\n",
      "Epoch 45/150\n",
      "51/51 [==============================] - 25s 483ms/step - loss: 0.0814\n",
      "Epoch 46/150\n",
      "51/51 [==============================] - 24s 468ms/step - loss: 0.0786\n",
      "Epoch 47/150\n",
      "51/51 [==============================] - 24s 463ms/step - loss: 0.0785\n",
      "Epoch 48/150\n",
      "51/51 [==============================] - 24s 467ms/step - loss: 0.0774\n",
      "Epoch 49/150\n",
      "51/51 [==============================] - 25s 495ms/step - loss: 0.0775\n",
      "Epoch 50/150\n",
      "51/51 [==============================] - 24s 461ms/step - loss: 0.0777\n",
      "Epoch 51/150\n",
      "51/51 [==============================] - 24s 467ms/step - loss: 0.0778\n",
      "Epoch 52/150\n",
      "51/51 [==============================] - 24s 472ms/step - loss: 0.0769\n",
      "Epoch 53/150\n",
      "51/51 [==============================] - 24s 475ms/step - loss: 0.0842\n",
      "Epoch 54/150\n",
      "51/51 [==============================] - 24s 477ms/step - loss: 0.0748\n",
      "Epoch 55/150\n",
      "51/51 [==============================] - 23s 460ms/step - loss: 0.0756\n",
      "Epoch 56/150\n",
      "51/51 [==============================] - 25s 482ms/step - loss: 0.0763\n",
      "Epoch 57/150\n",
      "51/51 [==============================] - 24s 462ms/step - loss: 0.0763\n",
      "Epoch 58/150\n",
      "51/51 [==============================] - 24s 466ms/step - loss: 0.0765\n",
      "Epoch 59/150\n",
      "51/51 [==============================] - 25s 484ms/step - loss: 0.0753\n",
      "Epoch 60/150\n",
      "51/51 [==============================] - 24s 465ms/step - loss: 0.0770\n",
      "Epoch 61/150\n",
      "51/51 [==============================] - 24s 468ms/step - loss: 0.0701\n",
      "Epoch 62/150\n",
      "51/51 [==============================] - 25s 482ms/step - loss: 0.0730\n",
      "Epoch 63/150\n",
      "51/51 [==============================] - 25s 488ms/step - loss: 0.0731\n",
      "Epoch 64/150\n",
      "51/51 [==============================] - 29s 561ms/step - loss: 0.0736\n",
      "Epoch 65/150\n",
      "51/51 [==============================] - 23s 449ms/step - loss: 0.0706\n",
      "Epoch 66/150\n",
      "51/51 [==============================] - 24s 464ms/step - loss: 0.0721\n",
      "Epoch 67/150\n",
      "51/51 [==============================] - 36s 710ms/step - loss: 0.0705\n",
      "Epoch 68/150\n",
      "51/51 [==============================] - 25s 494ms/step - loss: 0.0734\n",
      "Epoch 69/150\n",
      "51/51 [==============================] - 27s 528ms/step - loss: 0.0704\n",
      "Epoch 70/150\n",
      "51/51 [==============================] - 26s 500ms/step - loss: 0.0720\n",
      "Epoch 71/150\n",
      "51/51 [==============================] - 28s 549ms/step - loss: 0.0746\n",
      "Epoch 72/150\n",
      "51/51 [==============================] - 26s 515ms/step - loss: 0.0657\n",
      "Epoch 73/150\n",
      "51/51 [==============================] - 27s 531ms/step - loss: 0.0696\n",
      "Epoch 74/150\n",
      "51/51 [==============================] - 24s 468ms/step - loss: 0.0662\n",
      "Epoch 75/150\n",
      "51/51 [==============================] - 26s 518ms/step - loss: 0.0674\n",
      "Epoch 76/150\n",
      "51/51 [==============================] - 27s 524ms/step - loss: 0.0651\n",
      "Epoch 77/150\n",
      "51/51 [==============================] - 26s 504ms/step - loss: 0.0695\n",
      "Epoch 78/150\n",
      "51/51 [==============================] - 26s 513ms/step - loss: 0.0692\n",
      "Epoch 79/150\n",
      "51/51 [==============================] - 25s 498ms/step - loss: 0.0677\n",
      "Epoch 80/150\n",
      "51/51 [==============================] - 27s 528ms/step - loss: 0.0678\n",
      "Epoch 81/150\n",
      "51/51 [==============================] - 24s 468ms/step - loss: 0.0657\n",
      "Epoch 82/150\n",
      "51/51 [==============================] - 24s 469ms/step - loss: 0.0671\n",
      "Epoch 83/150\n",
      "51/51 [==============================] - 24s 468ms/step - loss: 0.0651\n",
      "Epoch 84/150\n",
      "51/51 [==============================] - 24s 471ms/step - loss: 0.0691\n",
      "Epoch 85/150\n",
      "51/51 [==============================] - 25s 493ms/step - loss: 0.0659\n",
      "Epoch 86/150\n",
      "51/51 [==============================] - 29s 576ms/step - loss: 0.0662\n",
      "Epoch 87/150\n",
      "51/51 [==============================] - 28s 540ms/step - loss: 0.0619\n",
      "Epoch 88/150\n",
      "51/51 [==============================] - 27s 533ms/step - loss: 0.0657\n",
      "Epoch 89/150\n",
      "51/51 [==============================] - 27s 529ms/step - loss: 0.0644\n",
      "Epoch 90/150\n",
      "51/51 [==============================] - 27s 525ms/step - loss: 0.0650\n",
      "Epoch 91/150\n",
      "51/51 [==============================] - 25s 496ms/step - loss: 0.0641\n",
      "Epoch 92/150\n",
      "51/51 [==============================] - 27s 522ms/step - loss: 0.0663\n",
      "Epoch 93/150\n",
      "51/51 [==============================] - 24s 467ms/step - loss: 0.0638\n",
      "Epoch 94/150\n",
      "51/51 [==============================] - 25s 497ms/step - loss: 0.0624\n",
      "Epoch 95/150\n",
      "51/51 [==============================] - 26s 506ms/step - loss: 0.0633\n",
      "Epoch 96/150\n",
      "51/51 [==============================] - 27s 528ms/step - loss: 0.0628\n",
      "Epoch 97/150\n",
      "51/51 [==============================] - 23s 450ms/step - loss: 0.0610\n",
      "Epoch 98/150\n"
     ]
    },
    {
     "name": "stdout",
     "output_type": "stream",
     "text": [
      "51/51 [==============================] - 23s 444ms/step - loss: 0.0619\n",
      "Epoch 99/150\n",
      "51/51 [==============================] - 23s 458ms/step - loss: 0.0592\n",
      "Epoch 100/150\n",
      "51/51 [==============================] - 23s 455ms/step - loss: 0.0577\n",
      "Epoch 101/150\n",
      "51/51 [==============================] - 24s 465ms/step - loss: 0.0576\n",
      "Epoch 102/150\n",
      "51/51 [==============================] - 23s 446ms/step - loss: 0.0570\n",
      "Epoch 103/150\n",
      "51/51 [==============================] - 24s 474ms/step - loss: 0.0572\n",
      "Epoch 104/150\n",
      "51/51 [==============================] - 23s 458ms/step - loss: 0.0599\n",
      "Epoch 105/150\n",
      "51/51 [==============================] - 23s 445ms/step - loss: 0.0600\n",
      "Epoch 106/150\n",
      "51/51 [==============================] - 23s 451ms/step - loss: 0.0611\n",
      "Epoch 107/150\n",
      "51/51 [==============================] - 26s 514ms/step - loss: 0.0591\n",
      "Epoch 108/150\n",
      "51/51 [==============================] - 24s 467ms/step - loss: 0.0572\n",
      "Epoch 109/150\n",
      "51/51 [==============================] - 23s 451ms/step - loss: 0.0598\n",
      "Epoch 110/150\n",
      "51/51 [==============================] - 23s 452ms/step - loss: 0.0619\n",
      "Epoch 111/150\n",
      "51/51 [==============================] - 24s 461ms/step - loss: 0.0638\n",
      "Epoch 112/150\n",
      "51/51 [==============================] - 23s 447ms/step - loss: 0.0602\n",
      "Epoch 113/150\n",
      "51/51 [==============================] - 23s 442ms/step - loss: 0.0585\n",
      "Epoch 114/150\n",
      "51/51 [==============================] - 23s 455ms/step - loss: 0.0570\n",
      "Epoch 115/150\n",
      "51/51 [==============================] - 23s 444ms/step - loss: 0.0547\n",
      "Epoch 116/150\n",
      "51/51 [==============================] - 23s 457ms/step - loss: 0.0606\n",
      "Epoch 117/150\n",
      "51/51 [==============================] - 23s 443ms/step - loss: 0.0554\n",
      "Epoch 118/150\n",
      "51/51 [==============================] - 23s 444ms/step - loss: 0.0541\n",
      "Epoch 119/150\n",
      "51/51 [==============================] - 23s 454ms/step - loss: 0.0567\n",
      "Epoch 120/150\n",
      "51/51 [==============================] - 23s 446ms/step - loss: 0.0546\n",
      "Epoch 121/150\n",
      "51/51 [==============================] - 23s 449ms/step - loss: 0.0552\n",
      "Epoch 122/150\n",
      "51/51 [==============================] - 23s 458ms/step - loss: 0.0577\n",
      "Epoch 123/150\n",
      "51/51 [==============================] - 25s 490ms/step - loss: 0.0564\n",
      "Epoch 124/150\n",
      "51/51 [==============================] - 25s 484ms/step - loss: 0.0539\n",
      "Epoch 125/150\n",
      "51/51 [==============================] - 24s 477ms/step - loss: 0.0539\n",
      "Epoch 126/150\n",
      "51/51 [==============================] - 28s 558ms/step - loss: 0.0545\n",
      "Epoch 127/150\n",
      "51/51 [==============================] - 25s 495ms/step - loss: 0.0571\n",
      "Epoch 128/150\n",
      "51/51 [==============================] - 24s 479ms/step - loss: 0.0534\n",
      "Epoch 129/150\n",
      "51/51 [==============================] - 24s 471ms/step - loss: 0.0499\n",
      "Epoch 130/150\n",
      "51/51 [==============================] - 24s 466ms/step - loss: 0.0540\n",
      "Epoch 131/150\n",
      "51/51 [==============================] - 23s 457ms/step - loss: 0.0518\n",
      "Epoch 132/150\n",
      "51/51 [==============================] - 25s 487ms/step - loss: 0.0551\n",
      "Epoch 133/150\n",
      "51/51 [==============================] - 25s 483ms/step - loss: 0.0512\n",
      "Epoch 134/150\n",
      "51/51 [==============================] - 25s 482ms/step - loss: 0.0504\n",
      "Epoch 135/150\n",
      "51/51 [==============================] - 24s 477ms/step - loss: 0.0515\n",
      "Epoch 136/150\n",
      "51/51 [==============================] - 23s 456ms/step - loss: 0.0523\n",
      "Epoch 137/150\n",
      "51/51 [==============================] - 23s 454ms/step - loss: 0.0508\n",
      "Epoch 138/150\n",
      "51/51 [==============================] - 23s 441ms/step - loss: 0.0588\n",
      "Epoch 139/150\n",
      "51/51 [==============================] - 24s 467ms/step - loss: 0.0493\n",
      "Epoch 140/150\n",
      "51/51 [==============================] - 23s 453ms/step - loss: 0.0504\n",
      "Epoch 141/150\n",
      "51/51 [==============================] - 23s 449ms/step - loss: 0.0530\n",
      "Epoch 142/150\n",
      "51/51 [==============================] - 24s 463ms/step - loss: 0.0521\n",
      "Epoch 143/150\n",
      "51/51 [==============================] - 23s 446ms/step - loss: 0.0530\n",
      "Epoch 144/150\n",
      "51/51 [==============================] - 23s 460ms/step - loss: 0.0502\n",
      "Epoch 145/150\n",
      "51/51 [==============================] - 23s 452ms/step - loss: 0.0496\n",
      "Epoch 146/150\n",
      "51/51 [==============================] - 23s 452ms/step - loss: 0.0518\n",
      "Epoch 147/150\n",
      "51/51 [==============================] - 23s 459ms/step - loss: 0.0527\n",
      "Epoch 148/150\n",
      "51/51 [==============================] - 25s 482ms/step - loss: 0.0519\n",
      "Epoch 149/150\n",
      "51/51 [==============================] - 23s 448ms/step - loss: 0.0482\n",
      "Epoch 150/150\n",
      "51/51 [==============================] - 23s 444ms/step - loss: 0.0505\n"
     ]
    },
    {
     "data": {
      "text/plain": [
       "<tensorflow.python.keras.callbacks.History at 0x14ede47f0>"
      ]
     },
     "execution_count": 8,
     "metadata": {},
     "output_type": "execute_result"
    }
   ],
   "source": [
    "model.compile(\n",
    "    optimizer='adam', #already does a batch aproach, re listen the podcast to remember later\n",
    "    # adam algorithm is stochastic gradient decent, using batch but different from SGD uses adam algorithm to optimize\n",
    "    loss = 'mean_squared_error'\n",
    ")\n",
    "# model.fit(gadf_training, y_train, epochs=100, batch_size=32)\n",
    "model.fit(gadf_training, y_train, epochs=150, batch_size=32)"
   ]
  },
  {
   "cell_type": "code",
   "execution_count": 14,
   "id": "db80f2ec",
   "metadata": {},
   "outputs": [
    {
     "data": {
      "text/html": [
       "<div>\n",
       "<style scoped>\n",
       "    .dataframe tbody tr th:only-of-type {\n",
       "        vertical-align: middle;\n",
       "    }\n",
       "\n",
       "    .dataframe tbody tr th {\n",
       "        vertical-align: top;\n",
       "    }\n",
       "\n",
       "    .dataframe thead th {\n",
       "        text-align: right;\n",
       "    }\n",
       "</style>\n",
       "<table border=\"1\" class=\"dataframe\">\n",
       "  <thead>\n",
       "    <tr style=\"text-align: right;\">\n",
       "      <th></th>\n",
       "      <th>Open</th>\n",
       "      <th>High</th>\n",
       "      <th>Low</th>\n",
       "      <th>Close</th>\n",
       "      <th>Volume</th>\n",
       "    </tr>\n",
       "  </thead>\n",
       "  <tbody>\n",
       "    <tr>\n",
       "      <th>0</th>\n",
       "      <td>155.399994</td>\n",
       "      <td>159.460007</td>\n",
       "      <td>155.009995</td>\n",
       "      <td>158.779999</td>\n",
       "      <td>19180100</td>\n",
       "    </tr>\n",
       "    <tr>\n",
       "      <th>1</th>\n",
       "      <td>159.559998</td>\n",
       "      <td>160.490005</td>\n",
       "      <td>157.949997</td>\n",
       "      <td>159.419998</td>\n",
       "      <td>17592000</td>\n",
       "    </tr>\n",
       "    <tr>\n",
       "      <th>2</th>\n",
       "      <td>158.509995</td>\n",
       "      <td>158.660004</td>\n",
       "      <td>153.279999</td>\n",
       "      <td>154.919998</td>\n",
       "      <td>21675100</td>\n",
       "    </tr>\n",
       "    <tr>\n",
       "      <th>3</th>\n",
       "      <td>155.860001</td>\n",
       "      <td>157.350006</td>\n",
       "      <td>153.550003</td>\n",
       "      <td>154.050003</td>\n",
       "      <td>19761300</td>\n",
       "    </tr>\n",
       "    <tr>\n",
       "      <th>4</th>\n",
       "      <td>154.759995</td>\n",
       "      <td>157.339996</td>\n",
       "      <td>154.460007</td>\n",
       "      <td>154.779999</td>\n",
       "      <td>15424700</td>\n",
       "    </tr>\n",
       "    <tr>\n",
       "      <th>...</th>\n",
       "      <td>...</td>\n",
       "      <td>...</td>\n",
       "      <td>...</td>\n",
       "      <td>...</td>\n",
       "      <td>...</td>\n",
       "    </tr>\n",
       "    <tr>\n",
       "      <th>773</th>\n",
       "      <td>332.489990</td>\n",
       "      <td>333.190002</td>\n",
       "      <td>325.510010</td>\n",
       "      <td>327.640015</td>\n",
       "      <td>21872600</td>\n",
       "    </tr>\n",
       "    <tr>\n",
       "      <th>774</th>\n",
       "      <td>329.820007</td>\n",
       "      <td>332.459991</td>\n",
       "      <td>327.000000</td>\n",
       "      <td>327.739990</td>\n",
       "      <td>12376600</td>\n",
       "    </tr>\n",
       "    <tr>\n",
       "      <th>775</th>\n",
       "      <td>330.179993</td>\n",
       "      <td>341.859985</td>\n",
       "      <td>329.779999</td>\n",
       "      <td>340.890015</td>\n",
       "      <td>25387200</td>\n",
       "    </tr>\n",
       "    <tr>\n",
       "      <th>776</th>\n",
       "      <td>344.339996</td>\n",
       "      <td>353.649994</td>\n",
       "      <td>343.200012</td>\n",
       "      <td>347.559998</td>\n",
       "      <td>25076600</td>\n",
       "    </tr>\n",
       "    <tr>\n",
       "      <th>777</th>\n",
       "      <td>343.829987</td>\n",
       "      <td>346.649994</td>\n",
       "      <td>340.869995</td>\n",
       "      <td>342.959991</td>\n",
       "      <td>18114100</td>\n",
       "    </tr>\n",
       "  </tbody>\n",
       "</table>\n",
       "<p>778 rows × 5 columns</p>\n",
       "</div>"
      ],
      "text/plain": [
       "           Open        High         Low       Close    Volume\n",
       "0    155.399994  159.460007  155.009995  158.779999  19180100\n",
       "1    159.559998  160.490005  157.949997  159.419998  17592000\n",
       "2    158.509995  158.660004  153.279999  154.919998  21675100\n",
       "3    155.860001  157.350006  153.550003  154.050003  19761300\n",
       "4    154.759995  157.339996  154.460007  154.779999  15424700\n",
       "..          ...         ...         ...         ...       ...\n",
       "773  332.489990  333.190002  325.510010  327.640015  21872600\n",
       "774  329.820007  332.459991  327.000000  327.739990  12376600\n",
       "775  330.179993  341.859985  329.779999  340.890015  25387200\n",
       "776  344.339996  353.649994  343.200012  347.559998  25076600\n",
       "777  343.829987  346.649994  340.869995  342.959991  18114100\n",
       "\n",
       "[778 rows x 5 columns]"
      ]
     },
     "execution_count": 14,
     "metadata": {},
     "output_type": "execute_result"
    }
   ],
   "source": [
    "past_window_days = data_training.tail(window)\n",
    "df = past_window_days.append(data_test, ignore_index = True)\n",
    "df"
   ]
  },
  {
   "cell_type": "code",
   "execution_count": 15,
   "id": "28755e19",
   "metadata": {},
   "outputs": [
    {
     "data": {
      "text/plain": [
       "((718, 60, 5), (718,))"
      ]
     },
     "execution_count": 15,
     "metadata": {},
     "output_type": "execute_result"
    }
   ],
   "source": [
    "inputs = sc.transform(df) # we transfor the data into an array and then gather the window sizes with the prediction\n",
    "\n",
    "x_test = []\n",
    "y_test = []\n",
    "for i in range(window, inputs.shape[0]):\n",
    "    # take from current minus 60 first dimension, empty seconds dimension to grab all 5\n",
    "    x_test.append(inputs[i-window:i])\n",
    "    y_test.append(inputs[i, 0]) # zero second dimension only to grab which result should be\n",
    "x_test, y_test = np.array(x_test), np.array(y_test)\n",
    "x_test.shape, y_test.shape"
   ]
  },
  {
   "cell_type": "code",
   "execution_count": 16,
   "id": "ef08acbf",
   "metadata": {},
   "outputs": [
    {
     "data": {
      "text/plain": [
       "(718, 60, 60)"
      ]
     },
     "execution_count": 16,
     "metadata": {},
     "output_type": "execute_result"
    }
   ],
   "source": [
    "# transfor flattened data into gaf\n",
    "\n",
    "gadf_test = []\n",
    "\n",
    "for i in x_test:\n",
    "    gadf_test.append(create_gaf(i))\n",
    "gadf_test = np.array(gadf_test)\n",
    "\n",
    "y_pred = model.predict(gadf_test)\n",
    "# un scale the values to normal amount of google shares\n",
    "scale = (1/sc.scale_[0]) # scaling label -> amount that use scaler to scale\n",
    "# every single value of scale_ is the factor that was use for every single value in the scaler\n",
    "# sc.scale_[0] is the scaler factor\n",
    "# we do the 1/scale to do the reverse and have the original numbers\n",
    "sc.scale_, sc.scale_[0], scale\n",
    "y_pred_final = y_pred*scale\n",
    "y_test_final = y_test*scale\n",
    "\n",
    "gadf_test.shape"
   ]
  },
  {
   "cell_type": "code",
   "execution_count": 17,
   "id": "f0b27765",
   "metadata": {},
   "outputs": [
    {
     "data": {
      "image/png": "[encoded data removed]",
      "text/plain": [
       "<Figure size 1008x360 with 1 Axes>"
      ]
     },
     "metadata": {
      "needs_background": "light"
     },
     "output_type": "display_data"
    }
   ],
   "source": [
    "plt.figure(figsize=(14,5))\n",
    "plt.plot(y_test, color='red', label='Real FB Stock Price')\n",
    "plt.plot(y_pred, color='blue', label='Predicted FB Stock Price')\n",
    "plt.title('FB Stock Price Prediction')\n",
    "plt.xlabel('Time')\n",
    "plt.ylabel('FB Stock Price')\n",
    "plt.legend()\n",
    "plt.show()"
   ]
  },
  {
   "cell_type": "markdown",
   "id": "3be3aef7",
   "metadata": {},
   "source": [
    "# LOSS - Mean Squared Error"
   ]
  },
  {
   "cell_type": "code",
   "execution_count": 18,
   "id": "a95c32cb",
   "metadata": {},
   "outputs": [
    {
     "name": "stdout",
     "output_type": "stream",
     "text": [
      "23/23 [==============================] - 1s 37ms/step - loss: 0.6493\n"
     ]
    },
    {
     "data": {
      "text/plain": [
       "0.6493444442749023"
      ]
     },
     "execution_count": 18,
     "metadata": {},
     "output_type": "execute_result"
    }
   ],
   "source": [
    "model.evaluate(gadf_test, y_test)"
   ]
  },
  {
   "cell_type": "code",
   "execution_count": null,
   "id": "9d262246",
   "metadata": {},
   "outputs": [],
   "source": []
  }
 ],
 "metadata": {
  "kernelspec": {
   "display_name": "Python 3.9 (tensorflow)",
   "language": "python",
   "name": "tensorflow"
  },
  "language_info": {
   "codemirror_mode": {
    "name": "ipython",
    "version": 3
   },
   "file_extension": ".py",
   "mimetype": "text/x-python",
   "name": "python",
   "nbconvert_exporter": "python",
   "pygments_lexer": "ipython3",
   "version": "3.9.7"
  }
 },
 "nbformat": 4,
 "nbformat_minor": 5
}
